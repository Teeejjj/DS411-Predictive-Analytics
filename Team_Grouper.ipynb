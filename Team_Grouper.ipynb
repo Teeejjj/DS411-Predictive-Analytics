{
 "cells": [
  {
   "cell_type": "code",
   "execution_count": null,
   "id": "5f929af0-c967-4704-a1d0-cd099ba9ed98",
   "metadata": {},
   "outputs": [],
   "source": [
    "import numpy as np\n",
    "import random\n",
    "import pandas as pd\n",
    "from tqdm import tqdm"
   ]
  },
  {
   "cell_type": "code",
   "execution_count": null,
   "id": "59d59bdd-3fd7-4985-9d18-1b7291cc9f84",
   "metadata": {},
   "outputs": [],
   "source": [
    "students = [\n",
    "    'AGBALOG, Princess Honey G',\n",
    "    'BAGUIO, Christian Jay',\n",
    "    'BANDIVAS, Roxanne Mae D',\n",
    "    'BARRIO, Reyjane Mae G',\n",
    "    'BASA, Ma. Sophia C',\n",
    "    'BAYBAY, Alliana Eli U',\n",
    "    'CAGAS, Nephea R',\n",
    "    'CESPEDES, Karsci Vincze A',\n",
    "    'DAUG, Nicole Mikka ',\n",
    "    'GALINATO, Jan Carlo H',\n",
    "    'LLENARES, John Paolo M',\n",
    "    'LOPEZ, Eurice Jean C',\n",
    "    'MEGALBIO, DJ Alen P',\n",
    "    'ODCHIGUE, Lein Loisse Marundan',\n",
    "    'OPALLA, ERICA B',\n",
    "    'PADILLO, Rodmar Kent G',\n",
    "    'PALMES, Jhibsam B.',\n",
    "    'POCOL, Czarr Vic Israel P',\n",
    "    'RALUTO , KierDaniel U',\n",
    "    'REYES, Lester Jane',\n",
    "    'ROA, Arousfe Franco D',\n",
    "    'SABACAJAN, Cle Michael T',\n",
    "    'SAQUILAYAN, Erykha Mae G',\n",
    "    'TAMPARONG, Fatima O',\n",
    "    'TAPAO, Mark Vincent S',\n",
    "    'TORRALBA, Colin Elijah J',\n",
    "    'VELONO, Hannah T',\n",
    "    'VIUDOR, Jan Rey B'\n",
    "]"
   ]
  },
  {
   "cell_type": "code",
   "execution_count": null,
   "id": "1979c644-12d2-43e0-af94-4f0f656cf941",
   "metadata": {
    "scrolled": true
   },
   "outputs": [],
   "source": [
    "display(len(students), students)"
   ]
  },
  {
   "cell_type": "code",
   "execution_count": null,
   "id": "664b75b2-7914-4f0e-9cfb-59a6e9c582a7",
   "metadata": {
    "jupyter": {
     "source_hidden": true
    }
   },
   "outputs": [],
   "source": [
    "# def create_teams(students):\n",
    "#     for teams in range(7):\n",
    "#         team_num = 1\n",
    "#         team{team_num} = []\n",
    "#         team_memb = random.sample(students, int(len(students)/7))\n",
    "#         team{team_num}.append(team_memb)\n",
    "#         if team_memb.isin(students):\n",
    "#             students.remove(team_memb)"
   ]
  },
  {
   "cell_type": "code",
   "execution_count": null,
   "id": "aff59204-640a-41ba-9308-38995500ab8a",
   "metadata": {},
   "outputs": [],
   "source": [
    "def create_team(students):\n",
    "    team = {}\n",
    "    team_size = len(students) // 7\n",
    "    \n",
    "    for teams_num in tqdm(range(1,8)):\n",
    "        team_memb = random.sample(students, team_size)\n",
    "        team[f'team{teams_num}'] = team_memb\n",
    "        students = [person for person in students if person not in team_memb]\n",
    "    return team"
   ]
  },
  {
   "cell_type": "code",
   "execution_count": null,
   "id": "f95ff9ec-b285-4dc6-87cd-e66236a9e409",
   "metadata": {},
   "outputs": [],
   "source": [
    "# random.sample(students, int(len(students)/4))\n",
    "teams = create_team(students)"
   ]
  },
  {
   "cell_type": "code",
   "execution_count": null,
   "id": "f6cd18f2-be2a-4d79-9612-e57b962eb605",
   "metadata": {},
   "outputs": [],
   "source": [
    "team_df = pd.DataFrame(teams)\n",
    "team_df"
   ]
  },
  {
   "cell_type": "code",
   "execution_count": null,
   "id": "33eb4e88-6c87-4daa-b46b-e3c4704739a5",
   "metadata": {},
   "outputs": [],
   "source": []
  }
 ],
 "metadata": {
  "kernelspec": {
   "display_name": "Python 3 (ipykernel)",
   "language": "python",
   "name": "python3"
  },
  "language_info": {
   "codemirror_mode": {
    "name": "ipython",
    "version": 3
   },
   "file_extension": ".py",
   "mimetype": "text/x-python",
   "name": "python",
   "nbconvert_exporter": "python",
   "pygments_lexer": "ipython3",
   "version": "3.11.9"
  },
  "widgets": {
   "application/vnd.jupyter.widget-state+json": {
    "state": {},
    "version_major": 2,
    "version_minor": 0
   }
  }
 },
 "nbformat": 4,
 "nbformat_minor": 5
}
