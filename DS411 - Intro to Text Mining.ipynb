{
 "cells": [
  {
   "cell_type": "markdown",
   "id": "6236e420-18fd-4736-b5fb-20d73243dafb",
   "metadata": {},
   "source": [
    "<div style=\"display:fill;\n",
    "           border-radius:5px;\n",
    "           background-color:#FFFCFF;\n",
    "           font-family:Harlow Solid;\n",
    "           letter-spacing:0.1px;\n",
    "           text-align: center;\n",
    "           margin: auto;\">\n",
    "<h1 style =\"font-size:55px; color:#546A76; text-shadow: 2px 2px #DBE2E6;\"> \n",
    "           <u> Text Mining</h1></u>\n",
    "<div style = \"font-size:15px; font-family:Gotham Heavy; color:#546A76;letter-spacing:0.1px;\">\n",
    "    An Introduction to Text Mining and Analytics<br>\n",
    "    DS411 - Predictive Analytics</div>\n",
    "</h1>\n",
    "</div>\n",
    "\n"
   ]
  },
  {
   "cell_type": "markdown",
   "id": "958ce2ad-96c7-4a6b-84f1-469c1c6ec9e0",
   "metadata": {},
   "source": [
    "<!-- Topics:\n",
    "- What is Text Mining?\n",
    "- Text Mining and Text Analytics, whats the Difference?\n",
    "- What is NLP?\n",
    "- Importance of Text Mining\n",
    "- Text Mining Process -->\n",
    "\n",
    "<p>\n",
    "    <font size=\"4px\"><font color=\"grey\"><b><i>Topics to be disussed:</i></b>\n",
    "    </font></font>\n",
    "</p>\n",
    "\n",
    "<font size=\"3px\"><font color=\"#EC9A29\">\n",
    "<ul>\n",
    "    <li><font color=\"#EC9A29\"><b>What is Text Mining?</b></li>\n",
    "    <li><font color=\"#EC9A29\"><b>Text Mining and Text Analytics, whats the Difference?</b></li>\n",
    "    <li><font color=\"#EC9A29\"><b>What is NLP?</b></li>\n",
    "    <li><font color=\"#EC9A29\"><b>Importance of Text Mining</b></li>\n",
    "    <li><font color=\"#EC9A29\"><b>Text Mining Process</b></li>\n",
    "    \n",
    "</ul>\n",
    "</font></font>"
   ]
  },
  {
   "cell_type": "markdown",
   "id": "371d3941-0ca1-4b27-9e06-a870b1143ac5",
   "metadata": {},
   "source": [
    "<p>\n",
    "    <font size=\"5px\"><font color=\"grey\"><b><i>What is Text Mining?</i></b>\n",
    "</p>\n",
    "\n",
    "<p>\n",
    "    <u>Text Mining</u> is a component of <i>Data Mining</i> and is the process of exploring and analyzing large amounts of unstructured text data. This aided by identifying concepts, patterns, topics, keywords and other attributes in the data. Text mining has become increasingly accessible for data scientists and other users thanks to the advancement of big data platforms and deep learning algorithms that can process vast amounts of unstructured data.\n",
    "\n",
    "By mining and analyzing text, organizations can uncover valuable business insights from sources like corporate documents, customer emails, call center logs, survey responses, social media posts, medical records, and other text-based data. Additionally, text mining features are being integrated into AI chatbots and virtual agents, enabling companies to offer automated customer responses in their marketing, sales, and customer service efforts.\n",
    "</p>"
   ]
  },
  {
   "cell_type": "markdown",
   "id": "77bf80a0-bbff-4af7-94af-6f51dedc4ded",
   "metadata": {},
   "source": [
    "<p>\n",
    "    <font size=\"5px\"><font color=\"grey\"><b><i><u>Text Mining</u> and <u>Text Analytics</u>, whats the difference?</i></b>\n",
    "</p>"
   ]
  },
  {
   "cell_type": "markdown",
   "id": "13139a02-889d-427a-bbb4-25b6c5d54e4c",
   "metadata": {},
   "source": [
    "<u>`Text mining`</u> and <u>`text analytics`</u> are closely related but serve different purposes in extracting insights from textual data. <u>`Text mining`</u> involves using natural language processing and machine learning techniques to identify patterns, trends, and knowledge within large sets of unstructured text.\n",
    "\n",
    "On the other hand, <u>`text analytics`</u> is centered on extracting meaningful information, sentiments, and context from text, often through statistical and linguistic methods. While text mining is focused on uncovering hidden patterns, text analytics is aimed at generating actionable insights for decision-making. Both are essential in converting unstructured text into valuable knowledge, with text mining exploring underlying patterns and text analytics offering interpretative context.\n",
    "\n",
    "<br>\n",
    "\n",
    "> &rarr; **Note:**\n",
    "> <ul>\n",
    "    <li><u>Statistical Method</u> - are about quantifying and analyzing text based on patterns, frequencies, and mathematical relationships. They are data-driven and often used in large-scale text analysis.</li>\n",
    "    <li><u>Linguistic Method</u> - involve understanding the language itself—its structure, grammar, and meaning. They are more focused on the interpretation and contextual understanding of text.</li>\n",
    "</ul>"
   ]
  },
  {
   "cell_type": "markdown",
   "id": "152c6c4e-c488-44b2-8fad-7d37bbe9a06b",
   "metadata": {},
   "source": [
    "<div class=\"alert alert-info\">\n",
    "  <b>Info!</b><br> \n",
    "    So, while <u><b>Text Mining</u></b> is about finding patterns, <u><b>Text Analytics</u></b> is about interpreting and understanding the content.<br> Both help turn raw text into valuable insights, but they do it in different ways.\n",
    "</div>"
   ]
  },
  {
   "cell_type": "markdown",
   "id": "bf517e55-602d-4cce-8a20-29982b706d68",
   "metadata": {},
   "source": [
    "<p>\n",
    "    <font size=\"5px\"><font color=\"grey\"><b><i>What is NLP?</i></b>\n",
    "</p>"
   ]
  },
  {
   "cell_type": "markdown",
   "id": "942c0700-d3ba-42e6-a012-926c7244a9dc",
   "metadata": {},
   "source": [
    "> &rarr; **Natural Language Processing (NLP) is a part of computer science and artificial intelligence which deals with human languages**"
   ]
  },
  {
   "cell_type": "markdown",
   "id": "663c1cd4-bed3-4c38-beaa-42d710080424",
   "metadata": {},
   "source": [
    "Basically *NLP* is a component of text mining that performs a special kind of linguistic analysis that essentially helps a machine \"read\" text. <br>\n",
    "It employs various techniques to interpret the complexities of human language, such as automatic summarization, part-of-speech tagging, <br>chunking, disambiguation, and natural language understanding and recognition."
   ]
  },
  {
   "cell_type": "markdown",
   "id": "0e167e6b-76c7-4376-a5b3-18c9a8599a07",
   "metadata": {},
   "source": [
    "NLP includes:\n",
    "1. Tokenization\n",
    "   - Word Tokenization\n",
    "   - Sentence Tokenization\n",
    "2. Term Frequency\n",
    "3. Stemming\n",
    "4. Lemmatization\n",
    "5. Stop Words\n",
    "6. Part of Speech Tagging\n",
    "7. Named Entity Recognition"
   ]
  },
  {
   "cell_type": "markdown",
   "id": "2ccb3c66-8fa6-4f77-9ea5-6f7d636ad0d4",
   "metadata": {},
   "source": [
    "<p>\n",
    "    <font size=\"5px\"><font color=\"grey\"><b><i>Importance of Text Mining</i></b><br>\n",
    "</p>"
   ]
  },
  {
   "cell_type": "markdown",
   "id": "bf4303c9-c188-40d6-bf19-739874727885",
   "metadata": {},
   "source": [
    "Text Mining has been widely used in many aspects and in various fields. Text mining is crucial for turning unstructured text data into actionable knowledge, helping organizations gain a competitive edge, improve their services, and make more informed decisions.\n",
    "\n",
    "- ***Uncovering Hidden Insights***: Text mining helps identify patterns, trends, and relationships within textual data that aren’t immediately obvious. This can lead to new discoveries and a deeper understanding of topics.\n",
    "\n",
    "- ***Enhancing Decision-Making***: By analyzing customer feedback, social media posts, or other text sources, organizations can gain insights that inform better decisions in areas like marketing, product development, and customer service.\n",
    "\n",
    "- ***Automating and Scaling Analysis***: Manual analysis of large volumes of text is time-consuming and impractical. Text mining automates the process, making it possible to analyze vast amounts of data quickly and efficiently.\n",
    "\n",
    "- ***Improving Customer Experience***: Text mining can analyze customer interactions (like emails, chats, or reviews) to identify common issues, sentiments, or needs. This allows companies to respond more effectively and improve customer satisfaction.\n",
    "\n",
    "- ***Detecting Risks and Opportunities***: Text mining can be used to monitor and analyze external sources, such as news articles or social media, to detect potential risks (like negative sentiment) or opportunities (like emerging trends) early.\n",
    "\n",
    "- ***Supporting Research and Innovation***: In fields like healthcare, text mining can be used to sift through vast amounts of medical literature or patient records to identify new treatments, trends, or correlations, supporting research and innovation."
   ]
  },
  {
   "cell_type": "markdown",
   "id": "c10b8f38-2b83-402d-ac27-d3818ef0a9f8",
   "metadata": {},
   "source": [
    "<p>\n",
    "    <font size=\"5px\"><font color=\"grey\"><b><i>Text Mining Process</i></b>\n",
    "</p>"
   ]
  },
  {
   "cell_type": "markdown",
   "id": "3a0f05ad-134b-45bd-b926-507954310eaf",
   "metadata": {},
   "source": [
    "```mermaid\n",
    "flowchart LR\n",
    "A[/Data Collection/]~~~B[/Data Preprocessing/]\n",
    "B~~~C[/Feature Engineering/]\n",
    "C~~~D[/Text Mining/]\n",
    "```\n",
    "\n",
    "```mermaid\n",
    "flowchart LR\n",
    "\n",
    "A[Web/SQL/CSV/EXCEL/API\n",
    "    /among others] ---o B[Text Preprocessing\n",
    "                        Tokenization\n",
    "                        Normalization\n",
    "                        NER\n",
    "                        POS]\n",
    "B ---o C[Content Analysis\n",
    "        Feature Extraction\n",
    "        Algorithmic Techniques]\n",
    "C ---o D[Topic Extraction\n",
    "        Predictive Analytics]\n",
    "D -..-> E([Feedback]) -..-> B\n",
    "\n",
    "```"
   ]
  },
  {
   "cell_type": "markdown",
   "id": "c57f0e71-f82b-4a65-b6c8-8d53d0b2ef73",
   "metadata": {},
   "source": [
    "<p>\n",
    "    <font size=\"5px\"><font color=\"grey\"><b><i>Application of Text Mining</i></b>\n",
    "</p>"
   ]
  },
  {
   "cell_type": "code",
   "execution_count": null,
   "id": "9fd44d6d-60b5-4983-b8c0-82035506c136",
   "metadata": {},
   "outputs": [],
   "source": [
    "# Name 1 Application for Text Mining"
   ]
  },
  {
   "cell_type": "markdown",
   "id": "3f4be4c4-9db9-4498-ae47-7d4ecadbb907",
   "metadata": {},
   "source": [
    "***Sources***:<br>\n",
    "kdnuggets.com / [Text Mining in Python](https://www.kdnuggets.com/2020/05/text-mining-python-steps-examples.html)<br>\n",
    "techtarget.com / [Text Mining(Text Analytics)](https://www.techtarget.com/searchbusinessanalytics/definition/text-mining)<br>\n",
    "geeksforgeeks.org / [Text Mining in Data Mining](https://www.geeksforgeeks.org/text-mining-in-data-mining/)<br>\n",
    "ibm.com / [Natural Language Processing](https://www.ibm.com/topics/natural-language-processing#:~:text=What%20is%20NLP%3F,and%20communicate%20with%20human%20language.)"
   ]
  },
  {
   "cell_type": "code",
   "execution_count": null,
   "id": "f2bb4fd8-cf03-46c6-aa60-e3dedbd8d344",
   "metadata": {},
   "outputs": [],
   "source": []
  }
 ],
 "metadata": {
  "kernelspec": {
   "display_name": "Python 3 (ipykernel)",
   "language": "python",
   "name": "python3"
  },
  "language_info": {
   "codemirror_mode": {
    "name": "ipython",
    "version": 3
   },
   "file_extension": ".py",
   "mimetype": "text/x-python",
   "name": "python",
   "nbconvert_exporter": "python",
   "pygments_lexer": "ipython3",
   "version": "3.11.9"
  },
  "widgets": {
   "application/vnd.jupyter.widget-state+json": {
    "state": {},
    "version_major": 2,
    "version_minor": 0
   }
  }
 },
 "nbformat": 4,
 "nbformat_minor": 5
}
