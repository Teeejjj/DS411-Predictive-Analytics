{
 "cells": [
  {
   "cell_type": "markdown",
   "id": "55cfa346-67db-4455-aa62-b85743b26506",
   "metadata": {},
   "source": [
    "<h1 style=\"font-size: 55px; font-family: 'Harlow Solid', script; color:#E6B89C; align: center;\"> Predictive Analytics </h1>"
   ]
  },
  {
   "cell_type": "markdown",
   "id": "6236e420-18fd-4736-b5fb-20d73243dafb",
   "metadata": {},
   "source": [
    "<div style=\"display:fill;\n",
    "           border-radius:5px;\n",
    "           background-color:#FFFCFF;\n",
    "           font-family:Harlow Solid;\n",
    "           letter-spacing:0.1px;\n",
    "           text-align: center;\n",
    "           margin: auto;\">\n",
    "<h1 style =\"font-size:55px; color:#546A76; text-shadow: 2px 2px #DBE2E6;\"> \n",
    "           <u>Review on Data Extraction/Import</h1></u>\n",
    "<h3 style = \"font-size:15px; font-family:Gotham Heavy; color:#546A76;letter-spacing:0.1px;\">DS411 - Predictive Analytics</h3>\n",
    "</h1>\n",
    "</div>\n",
    "\n"
   ]
  },
  {
   "cell_type": "markdown",
   "id": "8200d8b0-ec5a-4dbc-863c-1748922ffd68",
   "metadata": {},
   "source": [
    "<!-- Topics:\n",
    "- What is Text Mining?\n",
    "- Text Mining and Text Analytics, whats the Difference?\n",
    "- What is NLP?\n",
    "- Importance of Text Mining\n",
    "- Text Mining Process -->\n",
    "\n",
    "<p>\n",
    "    <font size=\"4px\"><font color=\"grey\"><b><i>Topics to be disussed:</i></b>\n",
    "    </font></font>\n",
    "</p>\n",
    "\n",
    "<font size=\"3px\"><font color=\"#EC9A29\">\n",
    "<ul>\n",
    "    <li><font color=\"#EC9A29\"><b>Read CSV</b></li>\n",
    "    <li><font color=\"#EC9A29\"><b>Read Excel</b></li>\n",
    "    <li><font color=\"#EC9A29\"><b>Read SQL Database</b></li>\n",
    "    <li><font color=\"#EC9A29\"><b>Read JSON Files</b></li>\n",
    "    <li><font color=\"#EC9A29\"><b>Read PDF Files</b></li>\n",
    "    <li><font color=\"#EC9A29\"><b>Read HTML</b></li>\n",
    "\n",
    "    \n",
    "</ul>\n",
    "</font></font>"
   ]
  },
  {
   "cell_type": "markdown",
   "id": "db01f8e6-89cc-431d-973c-851387b832fa",
   "metadata": {},
   "source": [
    "<p>\n",
    "    <font size=\"4px\"><font color='#546A7B'><b><i>Review on Data Extraction/Import</i></b>\n",
    "</p>\n",
    "        \n",
    "<p>\n",
    "    Here we will review how we extract our data using pandas. Starting with loading the data from various sources, such as <code>CSV</code> files, <code>Excel</code> spreadsheets, <code>SQL databases</code>, or even web <code>APIs</code>. Once the data is loaded into a pandas DataFrame, we can apply different techniques to <u>filter, clean, and transform</u> it as needed.\n",
    "</p>"
   ]
  },
  {
   "cell_type": "markdown",
   "id": "64d11df9-df8a-4068-a41d-13468e7e07c7",
   "metadata": {},
   "source": [
    "## Packages"
   ]
  },
  {
   "cell_type": "code",
   "execution_count": null,
   "id": "b5bce1b6-4d2e-4a1a-a6ae-21e963c50b4f",
   "metadata": {},
   "outputs": [],
   "source": [
    "# ---- Dataframe ---- #\n",
    "import pandas as pd\n",
    "import numpy as np\n",
    "\n",
    "# ---- SQL Database ---- #\n",
    "import sqlite3\n",
    "from sqlalchemy import create_engine\n",
    "\n",
    "# ---- For HTML ---- #\n",
    "import requests\n",
    "from bs4 import BeautifulSoup\n",
    "\n",
    "# ---- For JSON ---- #\n",
    "import json\n",
    "\n",
    "# ---- For PDF Files ---- #\n",
    "import pdfplumber\n",
    "\n",
    "# ---- Progress bar ---- #\n",
    "from tqdm.notebook import tqdm\n",
    "\n",
    "# ---- System  Access ---- #\n",
    "import os\n",
    "\n",
    "import warnings\n",
    "warnings.filterwarnings('ignore')\n",
    "# pd.set_option('display.max_columns', None)"
   ]
  },
  {
   "cell_type": "code",
   "execution_count": null,
   "id": "bda501ee-5d97-40c4-b622-8b06494cc655",
   "metadata": {},
   "outputs": [],
   "source": [
    "os.listdir('./Datasets/')"
   ]
  },
  {
   "cell_type": "markdown",
   "id": "14fd8ea6-37d7-410c-a76a-c77f8d3c2e6c",
   "metadata": {},
   "source": [
    "## Read CSV Files"
   ]
  },
  {
   "cell_type": "code",
   "execution_count": null,
   "id": "fd9b816f-49da-415c-92fe-ee9397306c11",
   "metadata": {
    "scrolled": true
   },
   "outputs": [],
   "source": [
    "csv = pd.read_csv('./Datasets/pokemonDB_dataset.csv')\n",
    "csv"
   ]
  },
  {
   "cell_type": "markdown",
   "id": "613347e6-1d9c-43bf-82b3-dff9ba6223a4",
   "metadata": {},
   "source": [
    "## Read Excel Files"
   ]
  },
  {
   "cell_type": "code",
   "execution_count": null,
   "id": "5f98f98b-741e-4d83-8cc9-c473bf2b2159",
   "metadata": {},
   "outputs": [],
   "source": [
    "sheets = pd.ExcelFile('./Datasets/Blazing Emerald 1.5.1 Data Sheets!.xlsx')\n",
    "sheets.sheet_names"
   ]
  },
  {
   "cell_type": "code",
   "execution_count": null,
   "id": "6abecdff-dbbf-4624-b156-e56b851c229f",
   "metadata": {
    "scrolled": true
   },
   "outputs": [],
   "source": [
    "xl = pd.read_excel('./Datasets/Blazing Emerald 1.5.1 Data Sheets!.xlsx', sheet_name=0)\n",
    "xl"
   ]
  },
  {
   "cell_type": "markdown",
   "id": "c0fa5bfd-2bb8-420b-afbf-3b10726c5bbc",
   "metadata": {},
   "source": [
    "## Read SQL Database"
   ]
  },
  {
   "cell_type": "markdown",
   "id": "2e27be6b-5b9a-4cd9-a704-488a3a35e48d",
   "metadata": {},
   "source": [
    "### Using sqlalchemy"
   ]
  },
  {
   "cell_type": "code",
   "execution_count": null,
   "id": "da91bbfe-cf23-427b-af11-c395439ea220",
   "metadata": {},
   "outputs": [],
   "source": [
    "try:\n",
    "    cnx = create_engine('sqlite:///Datasets/names.db')\n",
    "    print(f'Database connected: {cnx}')\n",
    "except Exception as e:\n",
    "    print(f'Database not connected: 404')"
   ]
  },
  {
   "cell_type": "code",
   "execution_count": null,
   "id": "cc56177e-836d-4736-b3f2-d21ea8ae2031",
   "metadata": {},
   "outputs": [],
   "source": [
    "pd.read_sql('SELECT name AS tables FROM sqlite_master WHERE type=\"table\"', cnx)"
   ]
  },
  {
   "cell_type": "code",
   "execution_count": null,
   "id": "114e8ccc-8256-40e9-94a4-c9b39281db44",
   "metadata": {},
   "outputs": [],
   "source": [
    "sql = pd.read_sql('SELECT * FROM tbl_clean', cnx)\n",
    "sql"
   ]
  },
  {
   "cell_type": "markdown",
   "id": "45370074-3440-4e6b-a102-2faa0ba88669",
   "metadata": {},
   "source": [
    "### Using sqlite3"
   ]
  },
  {
   "cell_type": "code",
   "execution_count": null,
   "id": "8f7b410f-f41b-41b6-8bae-866940b72fa3",
   "metadata": {},
   "outputs": [],
   "source": [
    "conn = sqlite3.connect('/Datasets/names.db')\n",
    "tables = pd.read_sql_query(\"SELECT name AS table FROM sqlite_master WHERE type='table';\", conn)\n",
    "tables"
   ]
  },
  {
   "cell_type": "code",
   "execution_count": null,
   "id": "14577d1d-c0cd-4724-a8ee-24124554c898",
   "metadata": {},
   "outputs": [],
   "source": [
    "sql = pd.read_sql('SELECT * FROM tbl_clean', conn)\n",
    "sql"
   ]
  },
  {
   "cell_type": "markdown",
   "id": "474596ba-9f57-47b4-9789-947c95bb9ba9",
   "metadata": {},
   "source": [
    "## Read JSON Files"
   ]
  },
  {
   "cell_type": "code",
   "execution_count": null,
   "id": "4e8d8336-c698-4cd8-b6e9-abf222ac1307",
   "metadata": {
    "scrolled": true
   },
   "outputs": [],
   "source": [
    "with open('./Datasets/pokemonDB_dataset.json') as f:\n",
    "    jsn = json.load(f)\n",
    "jsn"
   ]
  },
  {
   "cell_type": "code",
   "execution_count": null,
   "id": "f1142a49-c9e0-4ed6-89db-a4f52ec8d9ec",
   "metadata": {
    "scrolled": true
   },
   "outputs": [],
   "source": [
    "jsn['Eevee']"
   ]
  },
  {
   "cell_type": "code",
   "execution_count": null,
   "id": "9aef327b-1f6d-45fa-b0db-468e7860cb12",
   "metadata": {
    "scrolled": true
   },
   "outputs": [],
   "source": [
    "js_df = pd.DataFrame(jsn).T\n",
    "js_df"
   ]
  },
  {
   "cell_type": "code",
   "execution_count": null,
   "id": "1eb1ad44-021d-4b78-bcbb-bf023f4c55fd",
   "metadata": {
    "scrolled": true
   },
   "outputs": [],
   "source": [
    "# ------ OR USE PANDAS METHOD ------ #\n",
    "\n",
    "jsn = pd.read_json('./Datasets/pokemonDB_dataset.json').T\n",
    "jsn"
   ]
  },
  {
   "cell_type": "markdown",
   "id": "e9ff2c5a-1181-48c8-b6e3-4868f86fff28",
   "metadata": {},
   "source": [
    "## Read PDF Files"
   ]
  },
  {
   "cell_type": "code",
   "execution_count": null,
   "id": "f077a2ee-a31f-41bf-85bb-9b7a57b8e41a",
   "metadata": {},
   "outputs": [],
   "source": [
    "with pdfplumber.open(\"./Datasets/samplePDF_data.pdf\") as pdf:\n",
    "    tb = []\n",
    "    for i in tqdm(range(len(pdf.pages))):\n",
    "        page = ' '.join(pdf.pages[i].extract_text().split('\\n')[1:-1])\n",
    "        tb.append(page)"
   ]
  },
  {
   "cell_type": "code",
   "execution_count": null,
   "id": "f65a6c70-8447-4f79-bb64-120f8951c356",
   "metadata": {
    "scrolled": true
   },
   "outputs": [],
   "source": [
    "tb[0]"
   ]
  },
  {
   "cell_type": "markdown",
   "id": "41b1e742-3efd-4013-8c6a-631fac06bb73",
   "metadata": {},
   "source": [
    "## Read HTML"
   ]
  },
  {
   "cell_type": "code",
   "execution_count": null,
   "id": "fb1a3964-2a85-4376-9f23-82d842a05746",
   "metadata": {},
   "outputs": [],
   "source": []
  },
  {
   "cell_type": "code",
   "execution_count": null,
   "id": "d7d12cd1-b65d-4d79-b291-4241770b0fbd",
   "metadata": {},
   "outputs": [],
   "source": []
  }
 ],
 "metadata": {
  "kernelspec": {
   "display_name": "Python 3 (ipykernel)",
   "language": "python",
   "name": "python3"
  },
  "language_info": {
   "codemirror_mode": {
    "name": "ipython",
    "version": 3
   },
   "file_extension": ".py",
   "mimetype": "text/x-python",
   "name": "python",
   "nbconvert_exporter": "python",
   "pygments_lexer": "ipython3",
   "version": "3.11.9"
  },
  "widgets": {
   "application/vnd.jupyter.widget-state+json": {
    "state": {},
    "version_major": 2,
    "version_minor": 0
   }
  }
 },
 "nbformat": 4,
 "nbformat_minor": 5
}
