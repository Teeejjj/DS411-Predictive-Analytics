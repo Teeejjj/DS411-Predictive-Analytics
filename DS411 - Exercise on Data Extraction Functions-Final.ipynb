{
 "cells": [
  {
   "cell_type": "markdown",
   "id": "7eb2e9e6-76eb-4bd0-ac04-1822c7890444",
   "metadata": {},
   "source": [
    "Name:\n",
    "\n",
    "Section:\n",
    "\n",
    "Date:"
   ]
  },
  {
   "cell_type": "markdown",
   "id": "00b610f2-f352-478f-aecd-ddf0112b48bd",
   "metadata": {},
   "source": [
    "<em><font size=4>**Instructions**</font></em>: Follow the tasks or answer the questions. Show the complete code how you arrived at the answers to the questions."
   ]
  },
  {
   "cell_type": "markdown",
   "id": "1366b921-3e8c-4972-8d89-e8f8cb6168b4",
   "metadata": {},
   "source": [
    "1. Import the Necessary Packages"
   ]
  },
  {
   "cell_type": "code",
   "execution_count": null,
   "id": "e3e9339a-3796-499d-8054-45402c402abe",
   "metadata": {},
   "outputs": [],
   "source": [
    "# ---- Excel CSV ---- #\n",
    "import pandas as pd\n",
    "\n",
    "# ---- SQL ----- #\n",
    "import sqlite3\n",
    "from sqlalchemy import create_engine\n",
    "\n",
    "# ---- Misc. ---- #\n",
    "import os\n",
    "import warnings\n",
    "warnings.filterwarnings('ignore')\n",
    "pd.set_option('display.max_columns', None)"
   ]
  },
  {
   "cell_type": "markdown",
   "id": "913ddb80-a9d3-4d0b-97d6-bcb4fca1f538",
   "metadata": {},
   "source": [
    "2. Extract the necessary files\n",
    "\n",
    "\n",
    "<font size=\"1px\"><b>&nbsp;&nbsp;&nbsp;&nbsp;Optional: use OS to check</b></font>"
   ]
  },
  {
   "cell_type": "markdown",
   "id": "d893e6b1-9bc8-427b-84ad-61f3f0e04299",
   "metadata": {},
   "source": [
    "&nbsp;&nbsp;2.1. Extract your data from the CSV and Excel"
   ]
  },
  {
   "cell_type": "code",
   "execution_count": null,
   "id": "08f85c65-614c-4b62-a1db-1a45acd7322e",
   "metadata": {},
   "outputs": [],
   "source": [
    "csv_files = [x for x in os.listdir('./Datasets/') if x.endswith('.csv')]\n",
    "excel_files = [x for x in os.listdir('./Datasets/') if x.endswith('.xlsx')]\n",
    "\n",
    "display(csv_files, excel_files)"
   ]
  },
  {
   "cell_type": "markdown",
   "id": "428a9aa8-6cf7-4812-b32b-83750382c6a3",
   "metadata": {},
   "source": [
    "For CSV:\n",
    "\n",
    "----"
   ]
  },
  {
   "cell_type": "code",
   "execution_count": null,
   "id": "50bbf668-11b2-49dc-9029-a18a43773a70",
   "metadata": {},
   "outputs": [],
   "source": [
    "csv = pd.read_csv('./Datasets/CleanedKaggleDataSets.csv')\n",
    "xlsx = pd.read_excel('./Datasets/HRDatabase.xlsx')"
   ]
  },
  {
   "cell_type": "code",
   "execution_count": null,
   "id": "bc3dc4ad-64c9-4563-9038-dd7d7eafadc0",
   "metadata": {
    "scrolled": true
   },
   "outputs": [],
   "source": [
    "display(csv, xlsx)"
   ]
  },
  {
   "cell_type": "markdown",
   "id": "002649ca-13ae-4fa4-8e99-28ba0b03e25a",
   "metadata": {},
   "source": [
    "----\n",
    "<b><i> CSV File </b></i>\n",
    "\n",
    "----"
   ]
  },
  {
   "cell_type": "code",
   "execution_count": null,
   "id": "0aedf022-edf8-4083-91b6-c5d32e2ec570",
   "metadata": {
    "scrolled": true
   },
   "outputs": [],
   "source": [
    "csv"
   ]
  },
  {
   "cell_type": "markdown",
   "id": "e01241d9-d5d1-4cfd-8962-f76642c120b1",
   "metadata": {},
   "source": [
    "**Use the .info() method to find out how many entries there are.**"
   ]
  },
  {
   "cell_type": "code",
   "execution_count": null,
   "id": "8aecc35d-629d-40a7-8fb5-9b36f2d456a4",
   "metadata": {},
   "outputs": [],
   "source": [
    "csv.info()"
   ]
  },
  {
   "cell_type": "markdown",
   "id": "56452def-c4c4-44a4-9326-5dc4ede6bf0d",
   "metadata": {},
   "source": [
    "**How many datasets are there that are related to the 'Heart'?**"
   ]
  },
  {
   "cell_type": "code",
   "execution_count": null,
   "id": "5d2091e9-2cac-44cc-85d7-f0c6b0601202",
   "metadata": {},
   "outputs": [],
   "source": [
    "csv[csv['title'].str.contains('Heart')]['title'].nunique()"
   ]
  },
  {
   "cell_type": "markdown",
   "id": "eefd48ac-3324-43b4-be51-eaaa28296bca",
   "metadata": {},
   "source": [
    "**Are there Null Values in the column Usability_index?**"
   ]
  },
  {
   "cell_type": "code",
   "execution_count": null,
   "id": "eee1ee6c-e4d0-4afb-a07d-90afbbb5ee86",
   "metadata": {},
   "outputs": [],
   "source": [
    "csv[csv['Usability_index'].isna()]"
   ]
  },
  {
   "cell_type": "markdown",
   "id": "a8129d1c-0b3e-4a2a-9154-dd82d7328e10",
   "metadata": {},
   "source": [
    "**Show all rows with a Usability_index of 10.0**"
   ]
  },
  {
   "cell_type": "code",
   "execution_count": null,
   "id": "8391135b-4766-4b1d-a7f0-a4b2d92524b1",
   "metadata": {},
   "outputs": [],
   "source": [
    "csv[csv['Usability_index'].str.contains('Usability 10.0', na=False)]"
   ]
  },
  {
   "cell_type": "markdown",
   "id": "ebeed5cd-9b30-46c8-aec2-36e245c25b7a",
   "metadata": {},
   "source": [
    "**Get all rows with highest upvotes**\n",
    "\n",
    "<font size='1px'><i>Bonus: Sort by Usability_index</i>"
   ]
  },
  {
   "cell_type": "code",
   "execution_count": null,
   "id": "9d68d191-9b03-4cc2-b886-7f8e5a149933",
   "metadata": {
    "scrolled": true
   },
   "outputs": [],
   "source": [
    "csv[csv['up_vote'] == csv['up_vote'].max()].sort_values('Usability_index')"
   ]
  },
  {
   "cell_type": "markdown",
   "id": "245f70ec-7d10-4898-9d4d-59a2a540def2",
   "metadata": {},
   "source": [
    "----\n",
    "<b><i> Excel Files </b></i>\n",
    "\n",
    "----"
   ]
  },
  {
   "cell_type": "code",
   "execution_count": null,
   "id": "01a79797-a3d2-4ef8-b990-29111c6470ea",
   "metadata": {},
   "outputs": [],
   "source": [
    "xlsx"
   ]
  },
  {
   "cell_type": "markdown",
   "id": "90cd5b22-9001-48e4-a022-636234d8ae43",
   "metadata": {},
   "source": [
    "**How many Males and Females are there?**"
   ]
  },
  {
   "cell_type": "code",
   "execution_count": null,
   "id": "49bfa3b2-b715-4520-9ed3-850589f9e754",
   "metadata": {},
   "outputs": [],
   "source": [
    "xlsx['Gender'].value_counts()"
   ]
  },
  {
   "cell_type": "markdown",
   "id": "7b0d5156-a0bf-4a5b-b84e-ef6a1fa3d8a2",
   "metadata": {},
   "source": [
    "**List all the Reasons of why some employee's are terminated**"
   ]
  },
  {
   "cell_type": "code",
   "execution_count": null,
   "id": "a5eb64aa-dcce-441e-bd25-e0de9f256ced",
   "metadata": {},
   "outputs": [],
   "source": [
    "xlsx['Termination Reason'].unique()"
   ]
  },
  {
   "cell_type": "markdown",
   "id": "dcf6f33a-d6f3-47b5-a82f-32ebe7b7f6a3",
   "metadata": {},
   "source": [
    "**Show all rows with Unfair Dismissal as the reason of their Termination**"
   ]
  },
  {
   "cell_type": "code",
   "execution_count": null,
   "id": "91b79494-7158-4a62-9667-8a77e4ef2a4e",
   "metadata": {},
   "outputs": [],
   "source": [
    "xlsx[xlsx['Termination Reason'].str.contains('Unfair Dismissal', na=False)]"
   ]
  },
  {
   "cell_type": "markdown",
   "id": "8051755e-38da-4411-9407-84959eb36c61",
   "metadata": {},
   "source": [
    "**In regards to the previous task, How many Males and Females are there?**"
   ]
  },
  {
   "cell_type": "code",
   "execution_count": null,
   "id": "d5d7e285-a52d-4ae2-b202-660b63c0e08b",
   "metadata": {},
   "outputs": [],
   "source": [
    "xlsx[xlsx['Termination Reason'].str.contains('Unfair Dismissal', na=False)]['Gender'].value_counts()"
   ]
  },
  {
   "cell_type": "markdown",
   "id": "f989263e-3856-4083-822f-212c32056dfd",
   "metadata": {},
   "source": [
    "**Show only the Employee, Position, and Department Columns**\n",
    "\n",
    "<font size='1px'><i>Bonus: Sort by Employee</i>"
   ]
  },
  {
   "cell_type": "code",
   "execution_count": null,
   "id": "f1669017-64d4-4980-845c-2b57dd687344",
   "metadata": {},
   "outputs": [],
   "source": [
    "xlsx[['Employee','Position', 'Department']].sort_values('Employee')"
   ]
  },
  {
   "cell_type": "markdown",
   "id": "b3eb423c-e3b1-4985-96bc-5a4e0ab45d83",
   "metadata": {},
   "source": [
    "----\n",
    "&nbsp;&nbsp;2.2. Extract your data from the Database"
   ]
  },
  {
   "cell_type": "code",
   "execution_count": null,
   "id": "082a67e4-cace-4ce6-993f-9e1a613e9de9",
   "metadata": {},
   "outputs": [],
   "source": [
    "sql_files = [x for x in os.listdir('./Datasets/') if x.endswith('.db') or x.endswith('.sqlite3') or x.endswith('.sql')]\n",
    "sql_files"
   ]
  },
  {
   "cell_type": "code",
   "execution_count": null,
   "id": "60bab588-3914-4381-8f42-c0a91ce2b8df",
   "metadata": {},
   "outputs": [],
   "source": [
    "# --- Connect to the database --- #\n",
    "'''\n",
    "    For this portion, use the try - except method to \n",
    "    verify if you are connected to the database\n",
    "'''\n",
    "\n",
    "\n",
    "cnx = create_engine('sqlite:///Datasets/world.sqlite3')\n"
   ]
  },
  {
   "cell_type": "markdown",
   "id": "d2fc74f6-a927-444d-91ee-35fe42c486ef",
   "metadata": {},
   "source": [
    "**Show all the tables within the database**"
   ]
  },
  {
   "cell_type": "code",
   "execution_count": null,
   "id": "a2aa1c98-8231-4c4e-bab6-37be700a676d",
   "metadata": {},
   "outputs": [],
   "source": [
    "pd.read_sql('SELECT name FROM sqlite_master WHERE type=\"table\"', cnx)"
   ]
  },
  {
   "cell_type": "markdown",
   "id": "5c4726a2-89db-47a0-addf-b796967c8739",
   "metadata": {},
   "source": [
    "**Show the cities table**"
   ]
  },
  {
   "cell_type": "code",
   "execution_count": null,
   "id": "a3c6d611-7511-4047-85cc-e2e155c654f6",
   "metadata": {},
   "outputs": [],
   "source": [
    "db = pd.read_sql('select * from cities', cnx)\n",
    "db"
   ]
  },
  {
   "cell_type": "markdown",
   "id": "a58235b8-2ad0-4cff-a198-fb0fd2368951",
   "metadata": {},
   "source": [
    "**Show the countries table**"
   ]
  },
  {
   "cell_type": "code",
   "execution_count": null,
   "id": "922af0fa-2dcf-42b7-a97d-4268dd272311",
   "metadata": {},
   "outputs": [],
   "source": [
    "db_ = pd.read_sql('select * from countries', cnx)\n",
    "db_"
   ]
  },
  {
   "cell_type": "markdown",
   "id": "b16adad7-ee26-4044-8d34-5343d57869e4",
   "metadata": {},
   "source": [
    "**Show the subregion table**"
   ]
  },
  {
   "cell_type": "code",
   "execution_count": null,
   "id": "29feb67d-9d64-42e5-8f6a-37c280895fcc",
   "metadata": {},
   "outputs": [],
   "source": [
    "db_1 = pd.read_sql('select * from subregions', cnx)\n",
    "db_1"
   ]
  },
  {
   "cell_type": "markdown",
   "id": "7c199f14-9567-47a7-8d5d-984e870313b6",
   "metadata": {},
   "source": [
    "**Bonus:** Select the data from the \"countries\" table, specifically for the Philippines, without creating a Pandas DataFrame."
   ]
  },
  {
   "cell_type": "code",
   "execution_count": null,
   "id": "90a07626-5f60-488e-988a-7327101fed8b",
   "metadata": {},
   "outputs": [],
   "source": []
  },
  {
   "cell_type": "code",
   "execution_count": null,
   "id": "691e2f63-42b7-41e9-a2e5-ca598c425797",
   "metadata": {},
   "outputs": [],
   "source": []
  },
  {
   "cell_type": "code",
   "execution_count": null,
   "id": "80833412-8fea-48b0-ae16-0c40a2021b46",
   "metadata": {},
   "outputs": [],
   "source": []
  },
  {
   "cell_type": "markdown",
   "id": "4acf9d9f-cf61-443c-af7c-f22c49d68584",
   "metadata": {},
   "source": [
    "<u>**Save Excel files by Sheets**</u>"
   ]
  },
  {
   "cell_type": "code",
   "execution_count": null,
   "id": "d555d583-90d5-48ea-9ea3-5c2e1d4cb172",
   "metadata": {},
   "outputs": [],
   "source": [
    "xl1 = pd.read_excel('./Datasets/HRDatabase.xlsx')\n",
    "xl2 = pd.read_excel('./Datasets/DepartmentInformation.xlsx')\n",
    "xl3 = pd.read_excel('./Datasets/EmployeeInformation.xlsx')\n",
    "\n",
    "display(xl1, xl2, xl3)"
   ]
  },
  {
   "cell_type": "code",
   "execution_count": null,
   "id": "88c100d4-3038-40ed-b26c-4c68bc8c8b2a",
   "metadata": {},
   "outputs": [],
   "source": [
    "with pd.ExcelWriter(\"./Datasets/OfficeData.xlsx\", \n",
    "                    engine='openpyxl',  \n",
    "                    date_format='yyyy-mm-dd') as writer: \n",
    "    xl3.to_excel(writer, sheet_name=\"Employees\",  float_format='%.0f', freeze_panes=(1, 0), index=False)\n",
    "    xl2.to_excel(writer, sheet_name=\"Department\",  float_format='%.0f', freeze_panes=(1, 0), index=False)\n",
    "    xl1.to_excel(writer, sheet_name=\"HRData\",  float_format='%.0f', freeze_panes=(1, 0), index=False)"
   ]
  },
  {
   "cell_type": "code",
   "execution_count": null,
   "id": "f400275b-afa3-4672-a6ca-601813b244df",
   "metadata": {},
   "outputs": [],
   "source": [
    "pd.read_excel('./Datasets/OfficeData.xlsx', sheet_name=2)"
   ]
  },
  {
   "cell_type": "code",
   "execution_count": null,
   "id": "65bfe326-f1fc-4f1f-a97c-0444ad836a36",
   "metadata": {},
   "outputs": [],
   "source": []
  }
 ],
 "metadata": {
  "kernelspec": {
   "display_name": "Python 3 (ipykernel)",
   "language": "python",
   "name": "python3"
  },
  "language_info": {
   "codemirror_mode": {
    "name": "ipython",
    "version": 3
   },
   "file_extension": ".py",
   "mimetype": "text/x-python",
   "name": "python",
   "nbconvert_exporter": "python",
   "pygments_lexer": "ipython3",
   "version": "3.11.9"
  },
  "widgets": {
   "application/vnd.jupyter.widget-state+json": {
    "state": {},
    "version_major": 2,
    "version_minor": 0
   }
  }
 },
 "nbformat": 4,
 "nbformat_minor": 5
}
