{
 "cells": [
  {
   "cell_type": "markdown",
   "id": "7eb2e9e6-76eb-4bd0-ac04-1822c7890444",
   "metadata": {},
   "source": [
    "Name:\n",
    "\n",
    "Section:\n",
    "\n",
    "Date:"
   ]
  },
  {
   "cell_type": "markdown",
   "id": "00b610f2-f352-478f-aecd-ddf0112b48bd",
   "metadata": {},
   "source": [
    "<em><font size=4>**Instructions**</font></em>: Follow the tasks or answer the questions. Show the complete code how you arrived at the answers to the questions."
   ]
  },
  {
   "cell_type": "markdown",
   "id": "1366b921-3e8c-4972-8d89-e8f8cb6168b4",
   "metadata": {},
   "source": [
    "1. Import the Necessary Packages"
   ]
  },
  {
   "cell_type": "code",
   "execution_count": 1,
   "id": "e3e9339a-3796-499d-8054-45402c402abe",
   "metadata": {
    "execution": {
     "iopub.execute_input": "2024-09-21T02:33:24.881062Z",
     "iopub.status.busy": "2024-09-21T02:33:24.881062Z",
     "iopub.status.idle": "2024-09-21T02:33:27.681790Z",
     "shell.execute_reply": "2024-09-21T02:33:27.681790Z",
     "shell.execute_reply.started": "2024-09-21T02:33:24.881062Z"
    }
   },
   "outputs": [],
   "source": [
    "# ---- Excel CSV ---- #\n",
    "import pandas as pd\n",
    "\n",
    "# ---- SQL ----- #\n",
    "import sqlite3\n",
    "from sqlalchemy import create_engine\n",
    "\n",
    "# ---- JSON ----- #\n",
    "import json\n",
    "\n",
    "# ---- PDF ----- #\n",
    "import pdfplumber\n",
    "\n",
    "# ---- HTML ----- #\n",
    "import requests\n",
    "from bs4 import BeautifulSoup\n",
    "\n",
    "# ---- Misc. ---- #\n",
    "import os\n",
    "import warnings\n",
    "from tqdm.notebook import tqdm\n",
    "warnings.filterwarnings('ignore')\n",
    "pd.set_option('display.max_columns', None)"
   ]
  },
  {
   "cell_type": "markdown",
   "id": "913ddb80-a9d3-4d0b-97d6-bcb4fca1f538",
   "metadata": {},
   "source": [
    "2. Extract the necessary files\n",
    "\n",
    "\n",
    "<font size=\"1px\"><b>&nbsp;&nbsp;&nbsp;&nbsp;Optional: use OS to check</b></font>"
   ]
  },
  {
   "cell_type": "markdown",
   "id": "d893e6b1-9bc8-427b-84ad-61f3f0e04299",
   "metadata": {},
   "source": [
    "&nbsp;&nbsp;2.1. Extract your data from the CSV and Excel"
   ]
  },
  {
   "cell_type": "code",
   "execution_count": null,
   "id": "08f85c65-614c-4b62-a1db-1a45acd7322e",
   "metadata": {},
   "outputs": [],
   "source": [
    "csv_files = [x for x in os.listdir('./Datasets/') if x.endswith('.csv')]\n",
    "excel_files = [x for x in os.listdir('./Datasets/') if x.endswith('.xlsx')]\n",
    "\n",
    "display(csv_files, excel_files)"
   ]
  },
  {
   "cell_type": "markdown",
   "id": "428a9aa8-6cf7-4812-b32b-83750382c6a3",
   "metadata": {},
   "source": [
    "For CSV:\n",
    "\n",
    "----"
   ]
  },
  {
   "cell_type": "code",
   "execution_count": null,
   "id": "50bbf668-11b2-49dc-9029-a18a43773a70",
   "metadata": {},
   "outputs": [],
   "source": [
    "csv = pd.read_csv('./Datasets/CleanedKaggleDataSets.csv')"
   ]
  },
  {
   "cell_type": "code",
   "execution_count": null,
   "id": "bc3dc4ad-64c9-4563-9038-dd7d7eafadc0",
   "metadata": {
    "scrolled": true
   },
   "outputs": [],
   "source": [
    "csv"
   ]
  },
  {
   "cell_type": "markdown",
   "id": "002649ca-13ae-4fa4-8e99-28ba0b03e25a",
   "metadata": {},
   "source": [
    "----\n",
    "<b><i> CSV File </b></i>\n",
    "\n",
    "----"
   ]
  },
  {
   "cell_type": "code",
   "execution_count": null,
   "id": "0aedf022-edf8-4083-91b6-c5d32e2ec570",
   "metadata": {
    "scrolled": true
   },
   "outputs": [],
   "source": [
    "csv"
   ]
  },
  {
   "cell_type": "markdown",
   "id": "e01241d9-d5d1-4cfd-8962-f76642c120b1",
   "metadata": {},
   "source": [
    "**Use the .info() method to find out how many entries there are.**"
   ]
  },
  {
   "cell_type": "code",
   "execution_count": null,
   "id": "8aecc35d-629d-40a7-8fb5-9b36f2d456a4",
   "metadata": {},
   "outputs": [],
   "source": [
    "csv.info()"
   ]
  },
  {
   "cell_type": "markdown",
   "id": "56452def-c4c4-44a4-9326-5dc4ede6bf0d",
   "metadata": {},
   "source": [
    "**How many datasets are there that are related to the 'Heart'?**"
   ]
  },
  {
   "cell_type": "code",
   "execution_count": null,
   "id": "5d2091e9-2cac-44cc-85d7-f0c6b0601202",
   "metadata": {},
   "outputs": [],
   "source": [
    "csv[csv['title'].str.contains('Heart', case=True)]['title'].nunique()"
   ]
  },
  {
   "cell_type": "markdown",
   "id": "eefd48ac-3324-43b4-be51-eaaa28296bca",
   "metadata": {},
   "source": [
    "**Are there Null Values in the column Usability_index?**"
   ]
  },
  {
   "cell_type": "code",
   "execution_count": null,
   "id": "eee1ee6c-e4d0-4afb-a07d-90afbbb5ee86",
   "metadata": {},
   "outputs": [],
   "source": [
    "csv[csv['Usability_index'].isna()]"
   ]
  },
  {
   "cell_type": "markdown",
   "id": "a8129d1c-0b3e-4a2a-9154-dd82d7328e10",
   "metadata": {},
   "source": [
    "**Show all rows with a Usability_index of 10.0**"
   ]
  },
  {
   "cell_type": "code",
   "execution_count": null,
   "id": "8391135b-4766-4b1d-a7f0-a4b2d92524b1",
   "metadata": {},
   "outputs": [],
   "source": [
    "csv[csv['Usability_index'].str.contains('Usability 10.0', na=False)]"
   ]
  },
  {
   "cell_type": "markdown",
   "id": "ebeed5cd-9b30-46c8-aec2-36e245c25b7a",
   "metadata": {},
   "source": [
    "**Get all rows with highest upvotes**\n",
    "\n",
    "<font size='1px'><i>Bonus: Sort by Usability_index</i>"
   ]
  },
  {
   "cell_type": "code",
   "execution_count": null,
   "id": "9d68d191-9b03-4cc2-b886-7f8e5a149933",
   "metadata": {
    "scrolled": true
   },
   "outputs": [],
   "source": [
    "csv[csv['up_vote'] == csv['up_vote'].max()].sort_values('Usability_index')"
   ]
  },
  {
   "cell_type": "markdown",
   "id": "245f70ec-7d10-4898-9d4d-59a2a540def2",
   "metadata": {},
   "source": [
    "----\n",
    "<b><i> Excel Files </b></i>\n",
    "\n",
    "----"
   ]
  },
  {
   "cell_type": "code",
   "execution_count": null,
   "id": "8b63a122-de12-4251-ae9f-fdb310b3cd93",
   "metadata": {},
   "outputs": [],
   "source": [
    "sheets = pd.ExcelFile('./Datasets/OfficeData.xlsx')\n",
    "sheets.sheet_names"
   ]
  },
  {
   "cell_type": "code",
   "execution_count": null,
   "id": "b610cd79-0374-4dbf-a700-be16a68c1be1",
   "metadata": {},
   "outputs": [],
   "source": [
    "xlsx = pd.read_excel('./Datasets/OfficeData.xlsx', sheet_name=2)"
   ]
  },
  {
   "cell_type": "code",
   "execution_count": null,
   "id": "01a79797-a3d2-4ef8-b990-29111c6470ea",
   "metadata": {},
   "outputs": [],
   "source": [
    "xlsx"
   ]
  },
  {
   "cell_type": "markdown",
   "id": "90cd5b22-9001-48e4-a022-636234d8ae43",
   "metadata": {},
   "source": [
    "**How many Males and Females are there?**"
   ]
  },
  {
   "cell_type": "code",
   "execution_count": null,
   "id": "49bfa3b2-b715-4520-9ed3-850589f9e754",
   "metadata": {},
   "outputs": [],
   "source": [
    "xlsx['Gender'].value_counts()"
   ]
  },
  {
   "cell_type": "markdown",
   "id": "7b0d5156-a0bf-4a5b-b84e-ef6a1fa3d8a2",
   "metadata": {},
   "source": [
    "**List all the Reasons of why some employee's are terminated**"
   ]
  },
  {
   "cell_type": "code",
   "execution_count": null,
   "id": "a5eb64aa-dcce-441e-bd25-e0de9f256ced",
   "metadata": {},
   "outputs": [],
   "source": [
    "xlsx['Termination Reason'].unique()"
   ]
  },
  {
   "cell_type": "markdown",
   "id": "dcf6f33a-d6f3-47b5-a82f-32ebe7b7f6a3",
   "metadata": {},
   "source": [
    "**Show all rows with Unfair Dismissal as the reason of their Termination**"
   ]
  },
  {
   "cell_type": "code",
   "execution_count": null,
   "id": "91b79494-7158-4a62-9667-8a77e4ef2a4e",
   "metadata": {},
   "outputs": [],
   "source": [
    "xlsx[xlsx['Termination Reason'].str.contains('Unfair Dismissal', na=False)]"
   ]
  },
  {
   "cell_type": "markdown",
   "id": "8051755e-38da-4411-9407-84959eb36c61",
   "metadata": {},
   "source": [
    "**In regards to the previous task, How many Males and Females are there?**"
   ]
  },
  {
   "cell_type": "code",
   "execution_count": null,
   "id": "d5d7e285-a52d-4ae2-b202-660b63c0e08b",
   "metadata": {},
   "outputs": [],
   "source": [
    "xlsx[xlsx['Termination Reason'].str.contains('Unfair Dismissal', na=False)]['Gender'].value_counts()"
   ]
  },
  {
   "cell_type": "markdown",
   "id": "f989263e-3856-4083-822f-212c32056dfd",
   "metadata": {},
   "source": [
    "**Show only the Employee, Position, and Department Columns**\n",
    "\n",
    "<font size='1px'><i>Bonus: Sort by Employee</i>"
   ]
  },
  {
   "cell_type": "code",
   "execution_count": null,
   "id": "f1669017-64d4-4980-845c-2b57dd687344",
   "metadata": {},
   "outputs": [],
   "source": [
    "xlsx[['Employee','Position', 'Department']].sort_values('Employee')"
   ]
  },
  {
   "cell_type": "markdown",
   "id": "b3eb423c-e3b1-4985-96bc-5a4e0ab45d83",
   "metadata": {},
   "source": [
    "----\n",
    "&nbsp;&nbsp;2.2. Extract your data from the Database"
   ]
  },
  {
   "cell_type": "code",
   "execution_count": null,
   "id": "082a67e4-cace-4ce6-993f-9e1a613e9de9",
   "metadata": {},
   "outputs": [],
   "source": [
    "sql_files = [x for x in os.listdir('./Datasets/') if x.endswith('.db') or x.endswith('.sqlite3') or x.endswith('.sql')]\n",
    "sql_files"
   ]
  },
  {
   "cell_type": "code",
   "execution_count": null,
   "id": "60bab588-3914-4381-8f42-c0a91ce2b8df",
   "metadata": {},
   "outputs": [],
   "source": [
    "# --- Connect to the database --- #\n",
    "'''\n",
    "    For this portion, use the try - except method to \n",
    "    verify if you are connected to the database\n",
    "'''\n",
    "\n",
    "\n",
    "cnx = create_engine('sqlite:///Datasets/world.sqlite3')\n"
   ]
  },
  {
   "cell_type": "markdown",
   "id": "d2fc74f6-a927-444d-91ee-35fe42c486ef",
   "metadata": {},
   "source": [
    "**Show all the tables within the database**"
   ]
  },
  {
   "cell_type": "code",
   "execution_count": null,
   "id": "a2aa1c98-8231-4c4e-bab6-37be700a676d",
   "metadata": {},
   "outputs": [],
   "source": [
    "pd.read_sql('SELECT name FROM sqlite_master WHERE type=\"table\"', cnx)"
   ]
  },
  {
   "cell_type": "markdown",
   "id": "5c4726a2-89db-47a0-addf-b796967c8739",
   "metadata": {},
   "source": [
    "**Show the cities table**"
   ]
  },
  {
   "cell_type": "code",
   "execution_count": null,
   "id": "a3c6d611-7511-4047-85cc-e2e155c654f6",
   "metadata": {},
   "outputs": [],
   "source": [
    "db = pd.read_sql('select * from cities', cnx)\n",
    "db"
   ]
  },
  {
   "cell_type": "markdown",
   "id": "a58235b8-2ad0-4cff-a198-fb0fd2368951",
   "metadata": {},
   "source": [
    "**Show the countries table**"
   ]
  },
  {
   "cell_type": "code",
   "execution_count": null,
   "id": "922af0fa-2dcf-42b7-a97d-4268dd272311",
   "metadata": {},
   "outputs": [],
   "source": [
    "db_ = pd.read_sql('select * from countries', cnx)\n",
    "db_"
   ]
  },
  {
   "cell_type": "markdown",
   "id": "b16adad7-ee26-4044-8d34-5343d57869e4",
   "metadata": {},
   "source": [
    "**Show the subregion table**"
   ]
  },
  {
   "cell_type": "code",
   "execution_count": null,
   "id": "29feb67d-9d64-42e5-8f6a-37c280895fcc",
   "metadata": {},
   "outputs": [],
   "source": [
    "db_1 = pd.read_sql('select * from subregions', cnx)\n",
    "db_1"
   ]
  },
  {
   "cell_type": "markdown",
   "id": "7c199f14-9567-47a7-8d5d-984e870313b6",
   "metadata": {},
   "source": [
    "**Bonus:** Select the data from the \"countries\" table, specifically for the Philippines, without creating a Pandas DataFrame."
   ]
  },
  {
   "cell_type": "code",
   "execution_count": null,
   "id": "90a07626-5f60-488e-988a-7327101fed8b",
   "metadata": {},
   "outputs": [],
   "source": [
    "pd.read_sql('SELECT * FROM countries WHERE name = \"Philippines\"', cnx)"
   ]
  },
  {
   "cell_type": "markdown",
   "id": "834ae431",
   "metadata": {},
   "source": [
    "----\n",
    "<b><i> JSON File </b></i>\n",
    "\n",
    "----"
   ]
  },
  {
   "cell_type": "markdown",
   "id": "0119f24e-9e53-4a42-a51c-b36a44d0e960",
   "metadata": {},
   "source": [
    "3. Extract the necessary files\n",
    "\n",
    "<font size=\"1.5px\"><b>&nbsp;&nbsp;&nbsp;&nbsp;Use OS to check the movies folder</b></font>"
   ]
  },
  {
   "cell_type": "code",
   "execution_count": null,
   "id": "e445a5d3-424d-418e-9921-7a6c7076431d",
   "metadata": {},
   "outputs": [],
   "source": [
    "path = './Datasets/movies/'"
   ]
  },
  {
   "cell_type": "code",
   "execution_count": null,
   "id": "65d6e672-a249-4463-b676-26e8f117e1c3",
   "metadata": {
    "scrolled": true
   },
   "outputs": [],
   "source": [
    "movie_year = os.listdir(path)\n",
    "movie_year"
   ]
  },
  {
   "cell_type": "markdown",
   "id": "3f87eeef",
   "metadata": {},
   "source": [
    "**Go to the year 2014**"
   ]
  },
  {
   "cell_type": "code",
   "execution_count": null,
   "id": "664bcc1f",
   "metadata": {},
   "outputs": [],
   "source": [
    "year = os.listdir(f'{path}/2014/')\n",
    "year"
   ]
  },
  {
   "cell_type": "markdown",
   "id": "2bb783a0",
   "metadata": {},
   "source": [
    "**Without using pandas, open `gone-girl.json`**"
   ]
  },
  {
   "cell_type": "code",
   "execution_count": null,
   "id": "75a8f159-ca67-4893-bd68-94676b481560",
   "metadata": {},
   "outputs": [],
   "source": [
    "path2 = './Datasets/movies/2014/'"
   ]
  },
  {
   "cell_type": "code",
   "execution_count": null,
   "id": "f83bfded",
   "metadata": {},
   "outputs": [],
   "source": [
    "with open(os.path.join(path2, 'gone-girl.json')) as f:\n",
    "    gone_girl = json.load(f)\n",
    "gone_girl"
   ]
  },
  {
   "cell_type": "markdown",
   "id": "02b697cc-7a3a-4933-b475-6055a2766871",
   "metadata": {},
   "source": [
    "**Who are the actors in the movie?**"
   ]
  },
  {
   "cell_type": "code",
   "execution_count": null,
   "id": "36d3896a-ef83-4626-bd3b-cebf6a3b0135",
   "metadata": {},
   "outputs": [],
   "source": [
    "gone_girl['actors']"
   ]
  },
  {
   "cell_type": "markdown",
   "id": "9556f9a9",
   "metadata": {},
   "source": [
    "**How long is the runtime and Whats the storyline of `gone girl` ?**"
   ]
  },
  {
   "cell_type": "code",
   "execution_count": null,
   "id": "3f4e44cd-b88f-473c-a601-44a5fa5c965a",
   "metadata": {},
   "outputs": [],
   "source": [
    "for x in ['runtime', 'storyline']:\n",
    "    print(f'Movie {x.title()}: {gone_girl.get(x)}')"
   ]
  },
  {
   "cell_type": "markdown",
   "id": "1c405c61",
   "metadata": {},
   "source": [
    "**Create a list of dictionaries representing all movies across different years.**"
   ]
  },
  {
   "cell_type": "code",
   "execution_count": null,
   "id": "09e95e59",
   "metadata": {
    "scrolled": true
   },
   "outputs": [],
   "source": [
    "movie_list = list()\n",
    "\n",
    "for years in tqdm(movie_year):\n",
    "    for movies in os.listdir(os.path.join(f'{path}', f'{years}')):\n",
    "        with open(os.path.join(f'{path}', f'{years}', f'{movies}'), encoding=\"ISO-8859-1\") as movie_jsn:\n",
    "            movie_list.append(json.load(movie_jsn))\n",
    "        "
   ]
  },
  {
   "cell_type": "code",
   "execution_count": null,
   "id": "74b077b8-1138-43c3-bab0-9ce0383dbbb2",
   "metadata": {
    "scrolled": true
   },
   "outputs": [],
   "source": [
    "movie_list"
   ]
  },
  {
   "cell_type": "markdown",
   "id": "7ce2b8f8",
   "metadata": {},
   "source": [
    "**How many movies are there?**"
   ]
  },
  {
   "cell_type": "code",
   "execution_count": null,
   "id": "09c18033",
   "metadata": {
    "scrolled": true
   },
   "outputs": [],
   "source": [
    "len(movie_list)"
   ]
  },
  {
   "cell_type": "markdown",
   "id": "c28a555e-21d1-4aca-8531-17be2c30c540",
   "metadata": {},
   "source": [
    "**Display all movies**"
   ]
  },
  {
   "cell_type": "code",
   "execution_count": null,
   "id": "7982a8e4-24a9-415b-80aa-d676c14b6a08",
   "metadata": {
    "scrolled": true
   },
   "outputs": [],
   "source": [
    "movie_title = list()\n",
    "\n",
    "for title in movie_list:\n",
    "    movie_title.append(title['name'])\n",
    "movie_title"
   ]
  },
  {
   "cell_type": "markdown",
   "id": "4d27d7e1-3f00-474b-8b41-17cebd40b10d",
   "metadata": {},
   "source": [
    "**---------------------------- or this method ----------------------------**"
   ]
  },
  {
   "cell_type": "code",
   "execution_count": null,
   "id": "f8074a42-45a6-4e19-ad35-2d0cc82a0b7d",
   "metadata": {
    "scrolled": true
   },
   "outputs": [],
   "source": [
    "for title in movie_list:\n",
    "    if ('name' in title.keys()):\n",
    "        print(title['name'])"
   ]
  },
  {
   "cell_type": "markdown",
   "id": "434acd25-3489-4b75-ac07-aa7c36116691",
   "metadata": {},
   "source": [
    "**Show all categories per movie**"
   ]
  },
  {
   "cell_type": "code",
   "execution_count": null,
   "id": "6064b84f-fd36-4aea-ac94-ebd71beb0fe9",
   "metadata": {
    "scrolled": true
   },
   "outputs": [],
   "source": [
    "movie_categories = {}\n",
    "\n",
    "for cat in movie_list:\n",
    "    if 'name' in cat and 'categories' in cat:\n",
    "        if cat['name'] in movie_categories:\n",
    "            movie_categories[cat['name']].extend(cat['categories'])\n",
    "        else:\n",
    "            movie_categories[cat['name']] = cat['categories']"
   ]
  },
  {
   "cell_type": "code",
   "execution_count": null,
   "id": "a9dde421-ee8e-4a00-b43d-836634fde0bc",
   "metadata": {
    "scrolled": true
   },
   "outputs": [],
   "source": [
    "movie_categories"
   ]
  },
  {
   "cell_type": "markdown",
   "id": "45c2e971-7f14-42c4-94ee-4e7fb3edaa5f",
   "metadata": {},
   "source": [
    "**Show the storyline of each movie**"
   ]
  },
  {
   "cell_type": "code",
   "execution_count": null,
   "id": "33a3b4da-168f-402d-831d-8d7574111dff",
   "metadata": {},
   "outputs": [],
   "source": [
    "movie_storyline = {}\n",
    "\n",
    "for cat in movie_list:\n",
    "    if 'name' in cat and 'storyline' in cat:\n",
    "        if cat['name'] in movie_storyline:\n",
    "            movie_storyline[cat['name']] = (cat['storyline'])\n",
    "        else:\n",
    "            movie_storyline[cat['name']] = cat['storyline']"
   ]
  },
  {
   "cell_type": "markdown",
   "id": "9df01441-767d-4089-81da-6c23a7dd02a1",
   "metadata": {},
   "source": [
    "**Get the Storyline for {Fave Movie}**"
   ]
  },
  {
   "cell_type": "code",
   "execution_count": null,
   "id": "bab1164f-f7fa-4189-9117-39a4a0f75dd6",
   "metadata": {
    "scrolled": true
   },
   "outputs": [],
   "source": [
    "movie_storyline['The Avengers']"
   ]
  },
  {
   "cell_type": "markdown",
   "id": "558f53f8",
   "metadata": {},
   "source": [
    "----\n",
    "<b><i> PDF File </b></i>\n",
    "\n",
    "----"
   ]
  },
  {
   "cell_type": "markdown",
   "id": "3c9b3836-3b16-4623-9638-fb0e9226b45e",
   "metadata": {},
   "source": [
    "**Extract your PDF**"
   ]
  },
  {
   "cell_type": "code",
   "execution_count": null,
   "id": "e5af3f48",
   "metadata": {},
   "outputs": [],
   "source": [
    "with pdfplumber.open(\"./Datasets/sampledata_PDF.pdf\") as pdf:\n",
    "    tb = []\n",
    "    for i in tqdm(range(len(pdf.pages))):\n",
    "        page = ' '.join(pdf.pages[i].extract_text().split('\\n')[1:-1])\n",
    "        tb.append(page)"
   ]
  },
  {
   "cell_type": "code",
   "execution_count": null,
   "id": "4a0a0eab-1541-40d5-ab5c-2340ea94b830",
   "metadata": {
    "scrolled": true
   },
   "outputs": [],
   "source": [
    "tb"
   ]
  },
  {
   "cell_type": "markdown",
   "id": "ee553edc-dad0-422a-92a1-a8d767c94d40",
   "metadata": {},
   "source": [
    "**Filter out the empty values**"
   ]
  },
  {
   "cell_type": "code",
   "execution_count": null,
   "id": "642afd59",
   "metadata": {
    "scrolled": true
   },
   "outputs": [],
   "source": [
    "tb_filtered = [text for text in tb if text]  # This removes any empty or blank strings\n",
    "tb_filtered"
   ]
  },
  {
   "cell_type": "markdown",
   "id": "0c955d40-2f69-4c43-acd6-734f87d03b0b",
   "metadata": {},
   "source": [
    "**How many pages are there?**"
   ]
  },
  {
   "cell_type": "code",
   "execution_count": null,
   "id": "f322cbee-4287-4b7e-aa37-ef6683894762",
   "metadata": {},
   "outputs": [],
   "source": [
    "len(tb_filtered)"
   ]
  },
  {
   "cell_type": "markdown",
   "id": "2b6b9c15",
   "metadata": {},
   "source": [
    "----\n",
    "<b><i> HTML </b></i>\n",
    "\n",
    "----"
   ]
  },
  {
   "cell_type": "markdown",
   "id": "369427e7-a8e1-4bb2-a9b6-d522f1f45e8b",
   "metadata": {},
   "source": [
    "**Create a session object using the request library**"
   ]
  },
  {
   "cell_type": "code",
   "execution_count": 2,
   "id": "312de7ee",
   "metadata": {
    "execution": {
     "iopub.execute_input": "2024-09-21T02:33:44.921447Z",
     "iopub.status.busy": "2024-09-21T02:33:44.921447Z",
     "iopub.status.idle": "2024-09-21T02:33:44.926428Z",
     "shell.execute_reply": "2024-09-21T02:33:44.925427Z",
     "shell.execute_reply.started": "2024-09-21T02:33:44.921447Z"
    }
   },
   "outputs": [],
   "source": [
    "session = requests.session()"
   ]
  },
  {
   "cell_type": "markdown",
   "id": "ca06b91d-7088-4113-85cf-649d9ad83aa3",
   "metadata": {},
   "source": [
    "**Grab your HTML**"
   ]
  },
  {
   "cell_type": "code",
   "execution_count": 3,
   "id": "3a9fffc5",
   "metadata": {
    "execution": {
     "iopub.execute_input": "2024-09-21T02:33:46.369664Z",
     "iopub.status.busy": "2024-09-21T02:33:46.369664Z",
     "iopub.status.idle": "2024-09-21T02:33:46.374095Z",
     "shell.execute_reply": "2024-09-21T02:33:46.373095Z",
     "shell.execute_reply.started": "2024-09-21T02:33:46.369664Z"
    }
   },
   "outputs": [],
   "source": [
    "url = 'https://medium.com/@CloverDX/8-dimensions-of-data-quality-8cc31648c530'"
   ]
  },
  {
   "cell_type": "code",
   "execution_count": 4,
   "id": "dbe0e175",
   "metadata": {
    "execution": {
     "iopub.execute_input": "2024-09-21T02:33:50.540049Z",
     "iopub.status.busy": "2024-09-21T02:33:50.540049Z",
     "iopub.status.idle": "2024-09-21T02:33:51.026803Z",
     "shell.execute_reply": "2024-09-21T02:33:51.025803Z",
     "shell.execute_reply.started": "2024-09-21T02:33:50.540049Z"
    }
   },
   "outputs": [
    {
     "name": "stdout",
     "output_type": "stream",
     "text": [
      "200 OK\n"
     ]
    }
   ],
   "source": [
    "try: \n",
    "    \"\"\"\n",
    "        Fetch the Webpage\n",
    "    \"\"\"\n",
    "\n",
    "    response = session.get(url)\n",
    "    print(response.status_code,response.reason)\n",
    "\n",
    "except response.status_code != '202':\n",
    "    \"\"\"\n",
    "        Checks if the webpage was successfully fetched by looking at the status code\n",
    "    \"\"\"\n",
    "    print(response.reason)"
   ]
  },
  {
   "cell_type": "markdown",
   "id": "3ba80a70",
   "metadata": {},
   "source": [
    "**Parse the HTML Page and place it in a list**"
   ]
  },
  {
   "cell_type": "code",
   "execution_count": 16,
   "id": "ecc6ef35",
   "metadata": {
    "execution": {
     "iopub.execute_input": "2024-09-21T03:01:28.206444Z",
     "iopub.status.busy": "2024-09-21T03:01:28.205447Z",
     "iopub.status.idle": "2024-09-21T03:01:28.230915Z",
     "shell.execute_reply": "2024-09-21T03:01:28.230915Z",
     "shell.execute_reply.started": "2024-09-21T03:01:28.206444Z"
    },
    "scrolled": true
   },
   "outputs": [
    {
     "data": {
      "text/plain": [
       "['The 8 dimensions of data quality',\n",
       " '1. Accuracy',\n",
       " '2. Consistency',\n",
       " '3. Relevancy',\n",
       " '4. Auditability',\n",
       " '5. Completeness',\n",
       " '6. Timeliness',\n",
       " '7. Validity',\n",
       " '8. Uniqueness']"
      ]
     },
     "execution_count": 16,
     "metadata": {},
     "output_type": "execute_result"
    }
   ],
   "source": [
    "soup = BeautifulSoup(response.text)\n",
    "text = soup.find_all('h1')\n",
    "text_list = [sentence.get_text(strip=True) for sentence in text][1:-1]\n",
    "text_list"
   ]
  },
  {
   "cell_type": "code",
   "execution_count": 17,
   "id": "65bfe326-f1fc-4f1f-a97c-0444ad836a36",
   "metadata": {
    "execution": {
     "iopub.execute_input": "2024-09-21T03:01:34.164938Z",
     "iopub.status.busy": "2024-09-21T03:01:34.164938Z",
     "iopub.status.idle": "2024-09-21T03:01:34.170633Z",
     "shell.execute_reply": "2024-09-21T03:01:34.169632Z",
     "shell.execute_reply.started": "2024-09-21T03:01:34.164938Z"
    }
   },
   "outputs": [],
   "source": [
    "h1_p_dict = {}\n",
    "\n",
    "h1_tags = soup.find_all('h1')\n",
    "\n",
    "for h1 in h1_tags:\n",
    "    h1_text = h1.get_text(strip=True)\n",
    "    p_tag = h1.find_next('p')\n",
    "    \n",
    "    if p_tag:\n",
    "        p_text = p_tag.get_text(strip=True)\n",
    "        h1_p_dict[h1_text] = p_text"
   ]
  },
  {
   "cell_type": "code",
   "execution_count": 18,
   "id": "f5184042-c1c6-4ee1-843b-4aad6c5861e7",
   "metadata": {
    "execution": {
     "iopub.execute_input": "2024-09-21T03:01:37.162630Z",
     "iopub.status.busy": "2024-09-21T03:01:37.162630Z",
     "iopub.status.idle": "2024-09-21T03:01:37.168565Z",
     "shell.execute_reply": "2024-09-21T03:01:37.168565Z",
     "shell.execute_reply.started": "2024-09-21T03:01:37.162630Z"
    }
   },
   "outputs": [
    {
     "data": {
      "text/plain": [
       "{'8 dimensions of data quality': 'CloverDX',\n",
       " 'The 8 dimensions of data quality': 'Accurate data reflects the real world. It’s factual and up to date, and serves as a source of reliable information that you can trust. When data is inaccurate, there are real-world implications.',\n",
       " '1. Accuracy': 'Accurate data reflects the real world. It’s factual and up to date, and serves as a source of reliable information that you can trust. When data is inaccurate, there are real-world implications.',\n",
       " '2. Consistency': 'Consistent data emerges when all instances are the same across multiple data sets. It’s important because it improves your ability to link data from multiple sources and thus increases the usability of the data.',\n",
       " '3. Relevancy': 'Data relevancy means different things for different industries. The data that is relevant to a financial institute will have little or no value to a healthcare provider. Similarly, data that a retailer collects to fuel its marketing efforts will have little import for a law enforcement agency.',\n",
       " '4. Auditability': 'Auditing your databases allows you to track how data gets used, as well as any changes made so important information doesn’t get permanently overwritten. And if data gets misused, auditing will enable you to see this too.',\n",
       " '5. Completeness': 'Data is complete when all the necessary data is available. This doesn’t necessarily mean that all the data fields must get filled out — only that those critical to you do.',\n",
       " '6. Timeliness': 'Data timeliness is about minimizing latency, so the data is with the right people at the right time. Depending on the industry, data timeliness, and data lateness, can have different implications. Take the Air Traffic Control space as an example. The safety of the skies relies on a continual flow of real-time data. But not every field requires such regular information to effectively ensure the quality of their data.',\n",
       " '7. Validity': 'This dimension measures how data conforms to business rules such as the format, type, and range. All emails must feature @ is one example of this. Another would be when an employee’s ID badge features letters that denote security clearance, with incorrect entry resulting in forbidding access to authorized personnel.',\n",
       " '8. Uniqueness': 'Data duplication causes a whole array of problems. When the same data gets stored in multiple locations, it results in the use of unnecessary storage space. But worse than this is the confusion it can cause.',\n",
       " 'Maintain the health of your data': '“Effective decision making requires business leaders to reframe what is essential, who or what is involved — and rethink how to leverage data and analytics to improve decision making. The result will be a new core competency, driving better business outcomes.” —Gartner'}"
      ]
     },
     "execution_count": 18,
     "metadata": {},
     "output_type": "execute_result"
    }
   ],
   "source": [
    "h1_p_dict"
   ]
  },
  {
   "cell_type": "code",
   "execution_count": null,
   "id": "4f0ae00d-2092-496a-b2cc-920f1bafe53e",
   "metadata": {},
   "outputs": [],
   "source": []
  }
 ],
 "metadata": {
  "kernelspec": {
   "display_name": "Python 3 (ipykernel)",
   "language": "python",
   "name": "python3"
  },
  "language_info": {
   "codemirror_mode": {
    "name": "ipython",
    "version": 3
   },
   "file_extension": ".py",
   "mimetype": "text/x-python",
   "name": "python",
   "nbconvert_exporter": "python",
   "pygments_lexer": "ipython3",
   "version": "3.11.9"
  },
  "widgets": {
   "application/vnd.jupyter.widget-state+json": {
    "state": {},
    "version_major": 2,
    "version_minor": 0
   }
  }
 },
 "nbformat": 4,
 "nbformat_minor": 5
}
