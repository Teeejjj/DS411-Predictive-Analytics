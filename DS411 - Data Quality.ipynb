{
 "cells": [
  {
   "cell_type": "markdown",
   "id": "1f4fa70f-0065-4b30-968c-68bd0e100bcb",
   "metadata": {},
   "source": [
    "<div style=\"display:fill;\n",
    "           border-radius:5px;\n",
    "           background-color:#FFFCFF;\n",
    "           font-family:Harlow Solid;\n",
    "           letter-spacing:0.1px;\n",
    "           text-align: center;\n",
    "           margin: auto;\">\n",
    "<h1 style =\"font-size:55px; color:#546A76; text-shadow: 2px 2px #DBE2E6;\">\n",
    "           <u>The Importance of Data Quality</h1></u>\n",
    "<h3 style = \"font-size:15px; font-family:Gotham Heavy; color:#546A76;letter-spacing:0.1px;\">DS411 - Predictive Analytics</h3>\n",
    "</h1>\n",
    "</div>\n",
    "\n"
   ]
  },
  {
   "cell_type": "code",
   "execution_count": null,
   "id": "caa4333e-3e7b-4443-b316-8068b888f2fe",
   "metadata": {},
   "outputs": [],
   "source": []
  },
  {
   "cell_type": "code",
   "execution_count": null,
   "id": "74342960-44c6-4073-9e11-fdc7daa1bc5f",
   "metadata": {},
   "outputs": [],
   "source": []
  },
  {
   "cell_type": "code",
   "execution_count": null,
   "id": "35e91119-8748-4d79-bf6d-34431528658c",
   "metadata": {},
   "outputs": [],
   "source": []
  },
  {
   "cell_type": "markdown",
   "id": "57ec6e13-a771-4a0d-9f50-efa55a5e6a3d",
   "metadata": {},
   "source": [
    "Important Data Normalization:\n",
    "- Punctuations\n",
    "- Numbers\n",
    "- Symbols\n",
    "- Stopwords\n",
    "- Contraction Words\n",
    "- "
   ]
  }
 ],
 "metadata": {
  "kernelspec": {
   "display_name": "Python 3 (ipykernel)",
   "language": "python",
   "name": "python3"
  },
  "language_info": {
   "codemirror_mode": {
    "name": "ipython",
    "version": 3
   },
   "file_extension": ".py",
   "mimetype": "text/x-python",
   "name": "python",
   "nbconvert_exporter": "python",
   "pygments_lexer": "ipython3",
   "version": "3.11.9"
  },
  "widgets": {
   "application/vnd.jupyter.widget-state+json": {
    "state": {},
    "version_major": 2,
    "version_minor": 0
   }
  }
 },
 "nbformat": 4,
 "nbformat_minor": 5
}
